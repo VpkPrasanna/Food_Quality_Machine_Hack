{
  "nbformat": 4,
  "nbformat_minor": 0,
  "metadata": {
    "colab": {
      "name": "Machine_Hack.ipynb",
      "provenance": []
    },
    "kernelspec": {
      "name": "python3",
      "display_name": "Python 3"
    }
  },
  "cells": [
    {
      "cell_type": "code",
      "metadata": {
        "id": "ScU7gZk43X3F",
        "colab_type": "code",
        "outputId": "b281db1f-6a8b-483f-adcf-c8a14772c3d4",
        "colab": {
          "base_uri": "https://localhost:8080/",
          "height": 124
        }
      },
      "source": [
        "from google.colab import drive\n",
        "drive.mount('/content/drive')"
      ],
      "execution_count": 0,
      "outputs": [
        {
          "output_type": "stream",
          "text": [
            "Go to this URL in a browser: https://accounts.google.com/o/oauth2/auth?client_id=947318989803-6bn6qk8qdgf4n4g3pfee6491hc0brc4i.apps.googleusercontent.com&redirect_uri=urn%3aietf%3awg%3aoauth%3a2.0%3aoob&response_type=code&scope=email%20https%3a%2f%2fwww.googleapis.com%2fauth%2fdocs.test%20https%3a%2f%2fwww.googleapis.com%2fauth%2fdrive%20https%3a%2f%2fwww.googleapis.com%2fauth%2fdrive.photos.readonly%20https%3a%2f%2fwww.googleapis.com%2fauth%2fpeopleapi.readonly\n",
            "\n",
            "Enter your authorization code:\n",
            "··········\n",
            "Mounted at /content/drive\n"
          ],
          "name": "stdout"
        }
      ]
    },
    {
      "cell_type": "code",
      "metadata": {
        "id": "zb9FLoC33dBz",
        "colab_type": "code",
        "colab": {}
      },
      "source": [
        "import zipfile\n",
        "import pandas as pd\n",
        "import numpy as np\n",
        "import matplotlib.pyplot as plt\n",
        "import keras\n",
        "import seaborn as sns\n",
        "from sklearn.preprocessing import LabelEncoder"
      ],
      "execution_count": 0,
      "outputs": []
    },
    {
      "cell_type": "code",
      "metadata": {
        "id": "CFyYvTlR3q5I",
        "colab_type": "code",
        "colab": {}
      },
      "source": [
        "zip_ref = zipfile.ZipFile(\"/content/drive/My Drive/Machine _Hack/Food_QUalityA_ParticipantsData.zip\", 'r')\n",
        "zip_ref.extractall(\"/tmp\")\n",
        "zip_ref.close()"
      ],
      "execution_count": 0,
      "outputs": []
    },
    {
      "cell_type": "code",
      "metadata": {
        "id": "Cqiy8yxk3zhw",
        "colab_type": "code",
        "colab": {}
      },
      "source": [
        "train_data = pd.read_excel('/tmp/Food_QUalityA_ParticipantsData/Data_Train.xlsx')\n",
        "test_data = pd.read_excel('/tmp/Food_QUalityA_ParticipantsData/Data_Test.xlsx')\n",
        "submission = pd.read_excel('/tmp/Food_QUalityA_ParticipantsData/Sample_Submission.xlsx')"
      ],
      "execution_count": 0,
      "outputs": []
    },
    {
      "cell_type": "code",
      "metadata": {
        "id": "OloEDJ1ONl1O",
        "colab_type": "code",
        "colab": {
          "base_uri": "https://localhost:8080/",
          "height": 617
        },
        "outputId": "2e26498d-5e8f-4938-bde6-a4506e41d82b"
      },
      "source": [
        "train_data"
      ],
      "execution_count": 35,
      "outputs": [
        {
          "output_type": "execute_result",
          "data": {
            "text/html": [
              "<div>\n",
              "<style scoped>\n",
              "    .dataframe tbody tr th:only-of-type {\n",
              "        vertical-align: middle;\n",
              "    }\n",
              "\n",
              "    .dataframe tbody tr th {\n",
              "        vertical-align: top;\n",
              "    }\n",
              "\n",
              "    .dataframe thead th {\n",
              "        text-align: right;\n",
              "    }\n",
              "</style>\n",
              "<table border=\"1\" class=\"dataframe\">\n",
              "  <thead>\n",
              "    <tr style=\"text-align: right;\">\n",
              "      <th></th>\n",
              "      <th>ID</th>\n",
              "      <th>Date</th>\n",
              "      <th>LicenseNo</th>\n",
              "      <th>FacilityID</th>\n",
              "      <th>FacilityName</th>\n",
              "      <th>Type</th>\n",
              "      <th>Street</th>\n",
              "      <th>City</th>\n",
              "      <th>State</th>\n",
              "      <th>LocationID</th>\n",
              "      <th>Reason</th>\n",
              "      <th>SectionViolations</th>\n",
              "      <th>RiskLevel</th>\n",
              "      <th>Geo_Loc</th>\n",
              "      <th>Inspection_Results</th>\n",
              "    </tr>\n",
              "  </thead>\n",
              "  <tbody>\n",
              "    <tr>\n",
              "      <th>0</th>\n",
              "      <td>31103489027986</td>\n",
              "      <td>26-04-2010</td>\n",
              "      <td>4744</td>\n",
              "      <td>8123</td>\n",
              "      <td>7715</td>\n",
              "      <td>RESTAURANT</td>\n",
              "      <td>15522</td>\n",
              "      <td>id-11235901</td>\n",
              "      <td>id_1890134</td>\n",
              "      <td>81876.0</td>\n",
              "      <td>CANVASS</td>\n",
              "      <td>33.0</td>\n",
              "      <td>High</td>\n",
              "      <td>locid16406</td>\n",
              "      <td>4</td>\n",
              "    </tr>\n",
              "    <tr>\n",
              "      <th>1</th>\n",
              "      <td>10088999935915</td>\n",
              "      <td>21-06-2009</td>\n",
              "      <td>2973</td>\n",
              "      <td>12268</td>\n",
              "      <td>11664</td>\n",
              "      <td>GROCERY STORE</td>\n",
              "      <td>3057</td>\n",
              "      <td>id-11235901</td>\n",
              "      <td>id_1890134</td>\n",
              "      <td>81862.0</td>\n",
              "      <td>COMPLAINT</td>\n",
              "      <td>33.0</td>\n",
              "      <td>High</td>\n",
              "      <td>locid878</td>\n",
              "      <td>4</td>\n",
              "    </tr>\n",
              "    <tr>\n",
              "      <th>2</th>\n",
              "      <td>40148966010272</td>\n",
              "      <td>01-05-2013</td>\n",
              "      <td>18223</td>\n",
              "      <td>1112</td>\n",
              "      <td>969</td>\n",
              "      <td>RESTAURANT</td>\n",
              "      <td>14988</td>\n",
              "      <td>id-11235901</td>\n",
              "      <td>id_1890134</td>\n",
              "      <td>81883.0</td>\n",
              "      <td>CANVASS</td>\n",
              "      <td>NaN</td>\n",
              "      <td>High</td>\n",
              "      <td>locid3368</td>\n",
              "      <td>6</td>\n",
              "    </tr>\n",
              "    <tr>\n",
              "      <th>3</th>\n",
              "      <td>37157708563676</td>\n",
              "      <td>28-09-2015</td>\n",
              "      <td>20825</td>\n",
              "      <td>20007</td>\n",
              "      <td>19115</td>\n",
              "      <td>RESTAURANT</td>\n",
              "      <td>3661</td>\n",
              "      <td>id-11235901</td>\n",
              "      <td>id_1890134</td>\n",
              "      <td>81859.0</td>\n",
              "      <td>CANVASS RE-INSPECTION</td>\n",
              "      <td>31.0</td>\n",
              "      <td>Medium</td>\n",
              "      <td>locid11839</td>\n",
              "      <td>4</td>\n",
              "    </tr>\n",
              "    <tr>\n",
              "      <th>4</th>\n",
              "      <td>47478049564374</td>\n",
              "      <td>09-12-2015</td>\n",
              "      <td>2136</td>\n",
              "      <td>16867</td>\n",
              "      <td>10409</td>\n",
              "      <td>RESTAURANT</td>\n",
              "      <td>7876</td>\n",
              "      <td>id-11235901</td>\n",
              "      <td>id_1890134</td>\n",
              "      <td>81886.0</td>\n",
              "      <td>COMPLAINT</td>\n",
              "      <td>30.0</td>\n",
              "      <td>High</td>\n",
              "      <td>locid12264</td>\n",
              "      <td>4</td>\n",
              "    </tr>\n",
              "    <tr>\n",
              "      <th>...</th>\n",
              "      <td>...</td>\n",
              "      <td>...</td>\n",
              "      <td>...</td>\n",
              "      <td>...</td>\n",
              "      <td>...</td>\n",
              "      <td>...</td>\n",
              "      <td>...</td>\n",
              "      <td>...</td>\n",
              "      <td>...</td>\n",
              "      <td>...</td>\n",
              "      <td>...</td>\n",
              "      <td>...</td>\n",
              "      <td>...</td>\n",
              "      <td>...</td>\n",
              "      <td>...</td>\n",
              "    </tr>\n",
              "    <tr>\n",
              "      <th>147438</th>\n",
              "      <td>32616888047244</td>\n",
              "      <td>15-06-2015</td>\n",
              "      <td>23001</td>\n",
              "      <td>19617</td>\n",
              "      <td>18736</td>\n",
              "      <td>GROCERY STORE</td>\n",
              "      <td>6229</td>\n",
              "      <td>id-11235901</td>\n",
              "      <td>id_1890134</td>\n",
              "      <td>81873.0</td>\n",
              "      <td>COMPLAINT</td>\n",
              "      <td>3.0</td>\n",
              "      <td>Medium</td>\n",
              "      <td>locid203</td>\n",
              "      <td>1</td>\n",
              "    </tr>\n",
              "    <tr>\n",
              "      <th>147439</th>\n",
              "      <td>38335234403261</td>\n",
              "      <td>28-11-2010</td>\n",
              "      <td>35329</td>\n",
              "      <td>21729</td>\n",
              "      <td>20760</td>\n",
              "      <td>RESTAURANT</td>\n",
              "      <td>3697</td>\n",
              "      <td>id-11235901</td>\n",
              "      <td>id_1890134</td>\n",
              "      <td>81848.0</td>\n",
              "      <td>SHORT FORM COMPLAINT</td>\n",
              "      <td>NaN</td>\n",
              "      <td>High</td>\n",
              "      <td>locid7202</td>\n",
              "      <td>4</td>\n",
              "    </tr>\n",
              "    <tr>\n",
              "      <th>147440</th>\n",
              "      <td>42693381689429</td>\n",
              "      <td>23-09-2014</td>\n",
              "      <td>5361</td>\n",
              "      <td>12685</td>\n",
              "      <td>12038</td>\n",
              "      <td>RESTAURANT</td>\n",
              "      <td>13027</td>\n",
              "      <td>id-11235901</td>\n",
              "      <td>id_1890134</td>\n",
              "      <td>81877.0</td>\n",
              "      <td>CANVASS</td>\n",
              "      <td>NaN</td>\n",
              "      <td>Medium</td>\n",
              "      <td>locid3614</td>\n",
              "      <td>6</td>\n",
              "    </tr>\n",
              "    <tr>\n",
              "      <th>147441</th>\n",
              "      <td>49087006944080</td>\n",
              "      <td>25-01-2018</td>\n",
              "      <td>12338</td>\n",
              "      <td>10898</td>\n",
              "      <td>10324</td>\n",
              "      <td>RESTAURANT</td>\n",
              "      <td>17833</td>\n",
              "      <td>id-11235901</td>\n",
              "      <td>id_1890134</td>\n",
              "      <td>81888.0</td>\n",
              "      <td>CANVASS RE-INSPECTION</td>\n",
              "      <td>3.0</td>\n",
              "      <td>High</td>\n",
              "      <td>locid757</td>\n",
              "      <td>5</td>\n",
              "    </tr>\n",
              "    <tr>\n",
              "      <th>147442</th>\n",
              "      <td>16714564150129</td>\n",
              "      <td>14-02-2012</td>\n",
              "      <td>18743</td>\n",
              "      <td>1392</td>\n",
              "      <td>1249</td>\n",
              "      <td>CHILDREN'S SERVICES FACILITY</td>\n",
              "      <td>7750</td>\n",
              "      <td>id-11235901</td>\n",
              "      <td>id_1890134</td>\n",
              "      <td>81904.0</td>\n",
              "      <td>LICENSE</td>\n",
              "      <td>32.0</td>\n",
              "      <td>High</td>\n",
              "      <td>locid16090</td>\n",
              "      <td>4</td>\n",
              "    </tr>\n",
              "  </tbody>\n",
              "</table>\n",
              "<p>147443 rows × 15 columns</p>\n",
              "</div>"
            ],
            "text/plain": [
              "                    ID        Date  ...     Geo_Loc  Inspection_Results\n",
              "0       31103489027986  26-04-2010  ...  locid16406                   4\n",
              "1       10088999935915  21-06-2009  ...    locid878                   4\n",
              "2       40148966010272  01-05-2013  ...   locid3368                   6\n",
              "3       37157708563676  28-09-2015  ...  locid11839                   4\n",
              "4       47478049564374  09-12-2015  ...  locid12264                   4\n",
              "...                ...         ...  ...         ...                 ...\n",
              "147438  32616888047244  15-06-2015  ...    locid203                   1\n",
              "147439  38335234403261  28-11-2010  ...   locid7202                   4\n",
              "147440  42693381689429  23-09-2014  ...   locid3614                   6\n",
              "147441  49087006944080  25-01-2018  ...    locid757                   5\n",
              "147442  16714564150129  14-02-2012  ...  locid16090                   4\n",
              "\n",
              "[147443 rows x 15 columns]"
            ]
          },
          "metadata": {
            "tags": []
          },
          "execution_count": 35
        }
      ]
    },
    {
      "cell_type": "code",
      "metadata": {
        "id": "3sbAayB9Cge4",
        "colab_type": "code",
        "colab": {
          "base_uri": "https://localhost:8080/",
          "height": 364
        },
        "outputId": "501e133f-a77b-47d1-f4a7-542ec3f5c549"
      },
      "source": [
        "train_data.info()"
      ],
      "execution_count": 36,
      "outputs": [
        {
          "output_type": "stream",
          "text": [
            "<class 'pandas.core.frame.DataFrame'>\n",
            "RangeIndex: 147443 entries, 0 to 147442\n",
            "Data columns (total 15 columns):\n",
            "ID                    147443 non-null int64\n",
            "Date                  147443 non-null object\n",
            "LicenseNo             147443 non-null int64\n",
            "FacilityID            147443 non-null int64\n",
            "FacilityName          147443 non-null int64\n",
            "Type                  143958 non-null object\n",
            "Street                147443 non-null int64\n",
            "City                  147443 non-null object\n",
            "State                 147443 non-null object\n",
            "LocationID            147408 non-null float64\n",
            "Reason                147443 non-null object\n",
            "SectionViolations     108375 non-null float64\n",
            "RiskLevel             147443 non-null object\n",
            "Geo_Loc               147443 non-null object\n",
            "Inspection_Results    147443 non-null int64\n",
            "dtypes: float64(2), int64(6), object(7)\n",
            "memory usage: 16.9+ MB\n"
          ],
          "name": "stdout"
        }
      ]
    },
    {
      "cell_type": "code",
      "metadata": {
        "id": "-yIG1opMCliV",
        "colab_type": "code",
        "colab": {
          "base_uri": "https://localhost:8080/",
          "height": 300
        },
        "outputId": "222fbfe3-54a2-494b-9070-c115887aacea"
      },
      "source": [
        "train_data.describe()"
      ],
      "execution_count": 37,
      "outputs": [
        {
          "output_type": "execute_result",
          "data": {
            "text/html": [
              "<div>\n",
              "<style scoped>\n",
              "    .dataframe tbody tr th:only-of-type {\n",
              "        vertical-align: middle;\n",
              "    }\n",
              "\n",
              "    .dataframe tbody tr th {\n",
              "        vertical-align: top;\n",
              "    }\n",
              "\n",
              "    .dataframe thead th {\n",
              "        text-align: right;\n",
              "    }\n",
              "</style>\n",
              "<table border=\"1\" class=\"dataframe\">\n",
              "  <thead>\n",
              "    <tr style=\"text-align: right;\">\n",
              "      <th></th>\n",
              "      <th>ID</th>\n",
              "      <th>LicenseNo</th>\n",
              "      <th>FacilityID</th>\n",
              "      <th>FacilityName</th>\n",
              "      <th>Street</th>\n",
              "      <th>LocationID</th>\n",
              "      <th>SectionViolations</th>\n",
              "      <th>Inspection_Results</th>\n",
              "    </tr>\n",
              "  </thead>\n",
              "  <tbody>\n",
              "    <tr>\n",
              "      <th>count</th>\n",
              "      <td>1.474430e+05</td>\n",
              "      <td>147443.000000</td>\n",
              "      <td>147443.000000</td>\n",
              "      <td>147443.000000</td>\n",
              "      <td>147443.000000</td>\n",
              "      <td>147408.000000</td>\n",
              "      <td>108375.000000</td>\n",
              "      <td>147443.000000</td>\n",
              "    </tr>\n",
              "    <tr>\n",
              "      <th>mean</th>\n",
              "      <td>2.997142e+13</td>\n",
              "      <td>17726.613003</td>\n",
              "      <td>14020.779583</td>\n",
              "      <td>13377.891009</td>\n",
              "      <td>8684.119653</td>\n",
              "      <td>81873.642156</td>\n",
              "      <td>24.129153</td>\n",
              "      <td>3.680405</td>\n",
              "    </tr>\n",
              "    <tr>\n",
              "      <th>std</th>\n",
              "      <td>1.154808e+13</td>\n",
              "      <td>10865.050018</td>\n",
              "      <td>7794.382869</td>\n",
              "      <td>7408.148606</td>\n",
              "      <td>5255.991577</td>\n",
              "      <td>140.248846</td>\n",
              "      <td>12.657456</td>\n",
              "      <td>1.481441</td>\n",
              "    </tr>\n",
              "    <tr>\n",
              "      <th>min</th>\n",
              "      <td>1.000014e+13</td>\n",
              "      <td>0.000000</td>\n",
              "      <td>0.000000</td>\n",
              "      <td>0.000000</td>\n",
              "      <td>0.000000</td>\n",
              "      <td>31259.000000</td>\n",
              "      <td>1.000000</td>\n",
              "      <td>0.000000</td>\n",
              "    </tr>\n",
              "    <tr>\n",
              "      <th>25%</th>\n",
              "      <td>1.994861e+13</td>\n",
              "      <td>8588.000000</td>\n",
              "      <td>7347.000000</td>\n",
              "      <td>6993.000000</td>\n",
              "      <td>4109.000000</td>\n",
              "      <td>81859.000000</td>\n",
              "      <td>14.000000</td>\n",
              "      <td>4.000000</td>\n",
              "    </tr>\n",
              "    <tr>\n",
              "      <th>50%</th>\n",
              "      <td>2.999146e+13</td>\n",
              "      <td>17056.000000</td>\n",
              "      <td>14256.000000</td>\n",
              "      <td>13710.000000</td>\n",
              "      <td>8541.000000</td>\n",
              "      <td>81870.000000</td>\n",
              "      <td>31.000000</td>\n",
              "      <td>4.000000</td>\n",
              "    </tr>\n",
              "    <tr>\n",
              "      <th>75%</th>\n",
              "      <td>3.995723e+13</td>\n",
              "      <td>26163.000000</td>\n",
              "      <td>20841.000000</td>\n",
              "      <td>19795.000000</td>\n",
              "      <td>13321.000000</td>\n",
              "      <td>81888.000000</td>\n",
              "      <td>33.000000</td>\n",
              "      <td>4.000000</td>\n",
              "    </tr>\n",
              "    <tr>\n",
              "      <th>max</th>\n",
              "      <td>4.999987e+13</td>\n",
              "      <td>37394.000000</td>\n",
              "      <td>27276.000000</td>\n",
              "      <td>26032.000000</td>\n",
              "      <td>17891.000000</td>\n",
              "      <td>82072.000000</td>\n",
              "      <td>70.000000</td>\n",
              "      <td>6.000000</td>\n",
              "    </tr>\n",
              "  </tbody>\n",
              "</table>\n",
              "</div>"
            ],
            "text/plain": [
              "                 ID      LicenseNo  ...  SectionViolations  Inspection_Results\n",
              "count  1.474430e+05  147443.000000  ...      108375.000000       147443.000000\n",
              "mean   2.997142e+13   17726.613003  ...          24.129153            3.680405\n",
              "std    1.154808e+13   10865.050018  ...          12.657456            1.481441\n",
              "min    1.000014e+13       0.000000  ...           1.000000            0.000000\n",
              "25%    1.994861e+13    8588.000000  ...          14.000000            4.000000\n",
              "50%    2.999146e+13   17056.000000  ...          31.000000            4.000000\n",
              "75%    3.995723e+13   26163.000000  ...          33.000000            4.000000\n",
              "max    4.999987e+13   37394.000000  ...          70.000000            6.000000\n",
              "\n",
              "[8 rows x 8 columns]"
            ]
          },
          "metadata": {
            "tags": []
          },
          "execution_count": 37
        }
      ]
    },
    {
      "cell_type": "code",
      "metadata": {
        "id": "f8C_QGO94JfW",
        "colab_type": "code",
        "outputId": "9b2e4e90-e896-4554-b035-867c43115894",
        "colab": {
          "base_uri": "https://localhost:8080/",
          "height": 300
        }
      },
      "source": [
        "train_data.corr()"
      ],
      "execution_count": 38,
      "outputs": [
        {
          "output_type": "execute_result",
          "data": {
            "text/html": [
              "<div>\n",
              "<style scoped>\n",
              "    .dataframe tbody tr th:only-of-type {\n",
              "        vertical-align: middle;\n",
              "    }\n",
              "\n",
              "    .dataframe tbody tr th {\n",
              "        vertical-align: top;\n",
              "    }\n",
              "\n",
              "    .dataframe thead th {\n",
              "        text-align: right;\n",
              "    }\n",
              "</style>\n",
              "<table border=\"1\" class=\"dataframe\">\n",
              "  <thead>\n",
              "    <tr style=\"text-align: right;\">\n",
              "      <th></th>\n",
              "      <th>ID</th>\n",
              "      <th>LicenseNo</th>\n",
              "      <th>FacilityID</th>\n",
              "      <th>FacilityName</th>\n",
              "      <th>Street</th>\n",
              "      <th>LocationID</th>\n",
              "      <th>SectionViolations</th>\n",
              "      <th>Inspection_Results</th>\n",
              "    </tr>\n",
              "  </thead>\n",
              "  <tbody>\n",
              "    <tr>\n",
              "      <th>ID</th>\n",
              "      <td>1.000000</td>\n",
              "      <td>-0.001000</td>\n",
              "      <td>-0.002463</td>\n",
              "      <td>-0.002147</td>\n",
              "      <td>-0.000081</td>\n",
              "      <td>-0.000495</td>\n",
              "      <td>0.001203</td>\n",
              "      <td>-0.006987</td>\n",
              "    </tr>\n",
              "    <tr>\n",
              "      <th>LicenseNo</th>\n",
              "      <td>-0.001000</td>\n",
              "      <td>1.000000</td>\n",
              "      <td>0.007651</td>\n",
              "      <td>0.004446</td>\n",
              "      <td>-0.008863</td>\n",
              "      <td>-0.003506</td>\n",
              "      <td>-0.040790</td>\n",
              "      <td>-0.042021</td>\n",
              "    </tr>\n",
              "    <tr>\n",
              "      <th>FacilityID</th>\n",
              "      <td>-0.002463</td>\n",
              "      <td>0.007651</td>\n",
              "      <td>1.000000</td>\n",
              "      <td>0.917714</td>\n",
              "      <td>-0.017715</td>\n",
              "      <td>0.002109</td>\n",
              "      <td>0.004258</td>\n",
              "      <td>-0.004908</td>\n",
              "    </tr>\n",
              "    <tr>\n",
              "      <th>FacilityName</th>\n",
              "      <td>-0.002147</td>\n",
              "      <td>0.004446</td>\n",
              "      <td>0.917714</td>\n",
              "      <td>1.000000</td>\n",
              "      <td>-0.012873</td>\n",
              "      <td>0.003299</td>\n",
              "      <td>0.004225</td>\n",
              "      <td>-0.004162</td>\n",
              "    </tr>\n",
              "    <tr>\n",
              "      <th>Street</th>\n",
              "      <td>-0.000081</td>\n",
              "      <td>-0.008863</td>\n",
              "      <td>-0.017715</td>\n",
              "      <td>-0.012873</td>\n",
              "      <td>1.000000</td>\n",
              "      <td>0.015736</td>\n",
              "      <td>0.006610</td>\n",
              "      <td>-0.004127</td>\n",
              "    </tr>\n",
              "    <tr>\n",
              "      <th>LocationID</th>\n",
              "      <td>-0.000495</td>\n",
              "      <td>-0.003506</td>\n",
              "      <td>0.002109</td>\n",
              "      <td>0.003299</td>\n",
              "      <td>0.015736</td>\n",
              "      <td>1.000000</td>\n",
              "      <td>0.007259</td>\n",
              "      <td>-0.001862</td>\n",
              "    </tr>\n",
              "    <tr>\n",
              "      <th>SectionViolations</th>\n",
              "      <td>0.001203</td>\n",
              "      <td>-0.040790</td>\n",
              "      <td>0.004258</td>\n",
              "      <td>0.004225</td>\n",
              "      <td>0.006610</td>\n",
              "      <td>0.007259</td>\n",
              "      <td>1.000000</td>\n",
              "      <td>0.250834</td>\n",
              "    </tr>\n",
              "    <tr>\n",
              "      <th>Inspection_Results</th>\n",
              "      <td>-0.006987</td>\n",
              "      <td>-0.042021</td>\n",
              "      <td>-0.004908</td>\n",
              "      <td>-0.004162</td>\n",
              "      <td>-0.004127</td>\n",
              "      <td>-0.001862</td>\n",
              "      <td>0.250834</td>\n",
              "      <td>1.000000</td>\n",
              "    </tr>\n",
              "  </tbody>\n",
              "</table>\n",
              "</div>"
            ],
            "text/plain": [
              "                          ID  LicenseNo  ...  SectionViolations  Inspection_Results\n",
              "ID                  1.000000  -0.001000  ...           0.001203           -0.006987\n",
              "LicenseNo          -0.001000   1.000000  ...          -0.040790           -0.042021\n",
              "FacilityID         -0.002463   0.007651  ...           0.004258           -0.004908\n",
              "FacilityName       -0.002147   0.004446  ...           0.004225           -0.004162\n",
              "Street             -0.000081  -0.008863  ...           0.006610           -0.004127\n",
              "LocationID         -0.000495  -0.003506  ...           0.007259           -0.001862\n",
              "SectionViolations   0.001203  -0.040790  ...           1.000000            0.250834\n",
              "Inspection_Results -0.006987  -0.042021  ...           0.250834            1.000000\n",
              "\n",
              "[8 rows x 8 columns]"
            ]
          },
          "metadata": {
            "tags": []
          },
          "execution_count": 38
        }
      ]
    },
    {
      "cell_type": "code",
      "metadata": {
        "id": "g7CUnrSDC3el",
        "colab_type": "code",
        "colab": {}
      },
      "source": [
        "train_data = train_data.drop(['ID','LocationID'],axis=1)\n",
        "test_data = test_data.drop(['ID','LocationID'],axis=1)"
      ],
      "execution_count": 0,
      "outputs": []
    },
    {
      "cell_type": "code",
      "metadata": {
        "id": "WvmkQjNR4-nU",
        "colab_type": "code",
        "colab": {
          "base_uri": "https://localhost:8080/",
          "height": 630
        },
        "outputId": "78d85a98-c5f5-43f4-974c-724eef68318b"
      },
      "source": [
        "corr = train_data.corr()\n",
        "plt.figure(figsize=(10,10))\n",
        "ax = sns.heatmap(corr,vmin=-1, vmax=1, center=0,cmap='coolwarm',square=True)"
      ],
      "execution_count": 40,
      "outputs": [
        {
          "output_type": "display_data",
          "data": {
            "image/png": "[encoded data removed]",
            "text/plain": [
              "<Figure size 720x720 with 2 Axes>"
            ]
          },
          "metadata": {
            "tags": []
          }
        }
      ]
    },
    {
      "cell_type": "code",
      "metadata": {
        "id": "irStlapp6-dp",
        "colab_type": "code",
        "colab": {
          "base_uri": "https://localhost:8080/",
          "height": 503
        },
        "outputId": "1b659237-f0cc-4e49-f3f3-c76d5c3edb59"
      },
      "source": [
        "print(train_data.isnull().sum())\n",
        "print(\"***\"*20)RESTAURANT\n",
        "print(test_data.isnull().sum())"
      ],
      "execution_count": 41,
      "outputs": [
        {
          "output_type": "stream",
          "text": [
            "Date                      0\n",
            "LicenseNo                 0\n",
            "FacilityID                0\n",
            "FacilityName              0\n",
            "Type                   3485\n",
            "Street                    0\n",
            "City                      0\n",
            "State                     0\n",
            "Reason                    0\n",
            "SectionViolations     39068\n",
            "RiskLevel                 0\n",
            "Geo_Loc                   0\n",
            "Inspection_Results        0\n",
            "dtype: int64\n",
            "************************************************************\n",
            "Date                     0\n",
            "LicenseNo                0\n",
            "FacilityID               0\n",
            "FacilityName             0\n",
            "Type                  1215\n",
            "Street                   0\n",
            "City                     0\n",
            "State                    0\n",
            "Reason                   0\n",
            "SectionViolations    12976\n",
            "RiskLevel                0\n",
            "Geo_Loc                  0\n",
            "dtype: int64\n"
          ],
          "name": "stdout"
        }
      ]
    },
    {
      "cell_type": "code",
      "metadata": {
        "id": "bhfWld60UL9X",
        "colab_type": "code",
        "colab": {
          "base_uri": "https://localhost:8080/",
          "height": 34
        },
        "outputId": "21521387-3a5b-45a5-e5bd-e0728c4c2873"
      },
      "source": [
        "train_data['Type'].mode()[0]"
      ],
      "execution_count": 43,
      "outputs": [
        {
          "output_type": "execute_result",
          "data": {
            "text/plain": [
              "'RESTAURANT'"
            ]
          },
          "metadata": {
            "tags": []
          },
          "execution_count": 43
        }
      ]
    },
    {
      "cell_type": "code",
      "metadata": {
        "id": "uhh8L7YgVnT4",
        "colab_type": "code",
        "colab": {
          "base_uri": "https://localhost:8080/",
          "height": 34
        },
        "outputId": "54c56f9b-eb66-4dbf-fe62-688da8429d19"
      },
      "source": [
        "train_data['SectionViolations'].mean()"
      ],
      "execution_count": 46,
      "outputs": [
        {
          "output_type": "execute_result",
          "data": {
            "text/plain": [
              "24.129153402537487"
            ]
          },
          "metadata": {
            "tags": []
          },
          "execution_count": 46
        }
      ]
    },
    {
      "cell_type": "code",
      "metadata": {
        "id": "iQIFFgZrNCl3",
        "colab_type": "code",
        "colab": {}
      },
      "source": [
        "# train_data = train_data.fillna(method='backfill')\n",
        "train_data['Type'].replace(np.nan,\"RESTAURANT\",inplace=True)\n",
        "test_data['Type'].replace(np.nan,\"RESTAURANT\",inplace=True)"
      ],
      "execution_count": 0,
      "outputs": []
    },
    {
      "cell_type": "code",
      "metadata": {
        "id": "1uAz1hckWzxI",
        "colab_type": "code",
        "colab": {}
      },
      "source": [
        "train_data['SectionViolations'].fillna(train_data['SectionViolations'].mean(),inplace = True)\n",
        "test_data['SectionViolations'].fillna(test_data['SectionViolations'].mean(),inplace = True)"
      ],
      "execution_count": 0,
      "outputs": []
    },
    {
      "cell_type": "code",
      "metadata": {
        "id": "LYYB8dtlR3QZ",
        "colab_type": "code",
        "colab": {
          "base_uri": "https://localhost:8080/",
          "height": 503
        },
        "outputId": "1201ba25-efc8-4289-f09f-338fe452df31"
      },
      "source": [
        "print(train_data.isnull().sum())\n",
        "print(\"***\"*20)\n",
        "print(test_data.isnull().sum())"
      ],
      "execution_count": 53,
      "outputs": [
        {
          "output_type": "stream",
          "text": [
            "Date                  0\n",
            "LicenseNo             0\n",
            "FacilityID            0\n",
            "FacilityName          0\n",
            "Type                  0\n",
            "Street                0\n",
            "City                  0\n",
            "State                 0\n",
            "Reason                0\n",
            "SectionViolations     0\n",
            "RiskLevel             0\n",
            "Geo_Loc               0\n",
            "Inspection_Results    0\n",
            "dtype: int64\n",
            "************************************************************\n",
            "Date                 0\n",
            "LicenseNo            0\n",
            "FacilityID           0\n",
            "FacilityName         0\n",
            "Type                 0\n",
            "Street               0\n",
            "City                 0\n",
            "State                0\n",
            "Reason               0\n",
            "SectionViolations    0\n",
            "RiskLevel            0\n",
            "Geo_Loc              0\n",
            "dtype: int64\n"
          ],
          "name": "stdout"
        }
      ]
    },
    {
      "cell_type": "code",
      "metadata": {
        "id": "kcoJiEE5R7Xj",
        "colab_type": "code",
        "colab": {
          "base_uri": "https://localhost:8080/",
          "height": 52
        },
        "outputId": "b059a2c3-e891-47b4-eb78-1f6d414e2a88"
      },
      "source": [
        "print(len(train_data))\n",
        "print(len(test_data))"
      ],
      "execution_count": 56,
      "outputs": [
        {
          "output_type": "stream",
          "text": [
            "147443\n",
            "49148\n"
          ],
          "name": "stdout"
        }
      ]
    },
    {
      "cell_type": "code",
      "metadata": {
        "id": "Hh-ZB0KAYLhw",
        "colab_type": "code",
        "colab": {}
      },
      "source": [
        "le = LabelEncoder()"
      ],
      "execution_count": 0,
      "outputs": []
    }
  ]
}